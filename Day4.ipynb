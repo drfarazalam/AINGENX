{
  "nbformat": 4,
  "nbformat_minor": 0,
  "metadata": {
    "colab": {
      "provenance": []
    },
    "kernelspec": {
      "name": "python3",
      "display_name": "Python 3"
    },
    "language_info": {
      "name": "python"
    }
  },
  "cells": [
    {
      "cell_type": "code",
      "source": [
        "import pandas as pd"
      ],
      "metadata": {
        "id": "rcEQ3mDVkYbg"
      },
      "execution_count": 4,
      "outputs": []
    },
    {
      "cell_type": "markdown",
      "source": [
        "Imported Pandas library"
      ],
      "metadata": {
        "id": "Ra3Duml4koGK"
      }
    },
    {
      "cell_type": "code",
      "source": [
        "df = pd.read_csv(\"train_final_cleaned.csv\")"
      ],
      "metadata": {
        "id": "UP_WjyABkrJi"
      },
      "execution_count": 5,
      "outputs": []
    },
    {
      "cell_type": "markdown",
      "source": [
        "Loaded Dataset"
      ],
      "metadata": {
        "id": "2A-dET9rkzvv"
      }
    },
    {
      "cell_type": "code",
      "source": [
        "df.info()"
      ],
      "metadata": {
        "colab": {
          "base_uri": "https://localhost:8080/"
        },
        "id": "npD4ifmQk1ee",
        "outputId": "432d2dba-8963-42f9-e03e-7d75951e6164"
      },
      "execution_count": 6,
      "outputs": [
        {
          "output_type": "stream",
          "name": "stdout",
          "text": [
            "<class 'pandas.core.frame.DataFrame'>\n",
            "RangeIndex: 9800 entries, 0 to 9799\n",
            "Data columns (total 17 columns):\n",
            " #   Column         Non-Null Count  Dtype  \n",
            "---  ------         --------------  -----  \n",
            " 0   Row ID         9800 non-null   int64  \n",
            " 1   Order ID       9800 non-null   object \n",
            " 2   Order Date     9800 non-null   object \n",
            " 3   Ship Date      9800 non-null   object \n",
            " 4   Ship Mode      9800 non-null   object \n",
            " 5   Customer ID    9800 non-null   object \n",
            " 6   Customer Name  9800 non-null   object \n",
            " 7   Segment        9800 non-null   object \n",
            " 8   City           9800 non-null   object \n",
            " 9   State          9800 non-null   object \n",
            " 10  Postal Code    9800 non-null   int64  \n",
            " 11  Region         9800 non-null   object \n",
            " 12  Product ID     9800 non-null   object \n",
            " 13  Category       9800 non-null   object \n",
            " 14  Sub-Category   9800 non-null   object \n",
            " 15  Product Name   9800 non-null   object \n",
            " 16  Sales          9800 non-null   float64\n",
            "dtypes: float64(1), int64(2), object(14)\n",
            "memory usage: 1.3+ MB\n"
          ]
        }
      ]
    },
    {
      "cell_type": "markdown",
      "source": [
        "Checked Dataset Info"
      ],
      "metadata": {
        "id": "A0qAEGLLlaKP"
      }
    },
    {
      "cell_type": "code",
      "source": [
        "# Check for basic statistics: lowest, highest, and average sales\n",
        "lowest_sales = data['Sales'].min()\n",
        "highest_sales = data['Sales'].max()\n",
        "average_sales = data['Sales'].mean()\n",
        "\n",
        "# Print the results\n",
        "print(f\"Lowest Sales: {lowest_sales}\")\n",
        "print(f\"Highest Sales: {highest_sales}\")\n",
        "print(f\"Average Sales: {average_sales:.2f}\")"
      ],
      "metadata": {
        "colab": {
          "base_uri": "https://localhost:8080/"
        },
        "id": "w_AOcZlRltav",
        "outputId": "09ec99df-52b8-4ee9-cb4b-e637aa229c3a"
      },
      "execution_count": 7,
      "outputs": [
        {
          "output_type": "stream",
          "name": "stdout",
          "text": [
            "Lowest Sales: 0.444\n",
            "Highest Sales: 22638.48\n",
            "Average Sales: 230.77\n"
          ]
        }
      ]
    },
    {
      "cell_type": "markdown",
      "source": [
        "Checked Lowest, Highest and Average Sales"
      ],
      "metadata": {
        "id": "4DW7OvI8mFOC"
      }
    },
    {
      "cell_type": "code",
      "source": [
        "# Group by 'Product Name' and sum the sales for each product\n",
        "product_sales = df.groupby('Product Name')['Sales'].sum().reset_index()\n",
        "\n",
        "# Sort the products by total sales in descending order\n",
        "product_sales = product_sales.sort_values(by='Sales', ascending=False)\n",
        "\n",
        "# Print the table\n",
        "print(product_sales)"
      ],
      "metadata": {
        "colab": {
          "base_uri": "https://localhost:8080/"
        },
        "id": "_GNzqqJzm9Wd",
        "outputId": "07eb77c8-aeab-4094-a3ad-9b66c80ee4a9"
      },
      "execution_count": 8,
      "outputs": [
        {
          "output_type": "stream",
          "name": "stdout",
          "text": [
            "                                           Product Name      Sales\n",
            "398               Canon Imageclass 2200 Advanced Copier  61599.824\n",
            "649   Fellowes Pb500 Electric Punch Plastic Comb Bin...  27453.384\n",
            "444   Cisco Telepresence System Ex90 Videoconferenci...  22638.480\n",
            "826        Hon 5400 Series Task Chairs For Big And Tall  21870.576\n",
            "685          Gbc Docubind Tl300 Electric Binding System  19823.479\n",
            "...                                                 ...        ...\n",
            "84                    Acme Serrated Blade Letter Opener      7.632\n",
            "783                                 Grip Seal Envelopes      7.072\n",
            "1799                                           Xerox 20      6.480\n",
            "208                                             Avery 5      5.760\n",
            "604   Eureka Disposable Bags For Sanitaire Vibra Gro...      1.624\n",
            "\n",
            "[1849 rows x 2 columns]\n"
          ]
        }
      ]
    },
    {
      "cell_type": "markdown",
      "source": [
        "Product-wise Total Sales"
      ],
      "metadata": {
        "id": "z19lW7ionfRA"
      }
    },
    {
      "cell_type": "code",
      "source": [
        "# Group by 'Product Name' and sum the sales for each product\n",
        "product_sales = df.groupby('Product Name')['Sales'].sum().reset_index()\n",
        "\n",
        "# Sort the products by total sales in descending order and select the top 10\n",
        "top_10_products = product_sales.sort_values(by='Sales', ascending=False).head(10)\n",
        "\n",
        "# Print the top 10 products with their total sales\n",
        "print(\"Top 10 Products with Highest Sales:\")\n",
        "print(top_10_products)\n"
      ],
      "metadata": {
        "colab": {
          "base_uri": "https://localhost:8080/"
        },
        "id": "2x3wCUckniW-",
        "outputId": "98e1deb7-7f7a-41f2-f637-021afb38ee61"
      },
      "execution_count": 9,
      "outputs": [
        {
          "output_type": "stream",
          "name": "stdout",
          "text": [
            "Top 10 Products with Highest Sales:\n",
            "                                          Product Name      Sales\n",
            "398              Canon Imageclass 2200 Advanced Copier  61599.824\n",
            "649  Fellowes Pb500 Electric Punch Plastic Comb Bin...  27453.384\n",
            "444  Cisco Telepresence System Ex90 Videoconferenci...  22638.480\n",
            "826       Hon 5400 Series Task Chairs For Big And Tall  21870.576\n",
            "685         Gbc Docubind Tl300 Electric Binding System  19823.479\n",
            "687   Gbc Ibimaster 500 Manual Proclick Binding System  19024.500\n",
            "796               Hewlett Packard Laserjet 3310 Copier  18839.686\n",
            "877  Hp Designjet T520 Inkjet Large Format Printer ...  18374.895\n",
            "682          Gbc Docubind P400 Electric Binding System  17965.068\n",
            "804        High Speed Automatic Electric Letter Opener  17030.312\n"
          ]
        }
      ]
    },
    {
      "cell_type": "code",
      "source": [
        "# Group by 'Postal Code' and sum the sales for each postal code\n",
        "postal_sales = data.groupby('Postal Code')['Sales'].sum().reset_index()\n",
        "\n",
        "# Sort the postal codes by total sales in descending order and select the top 10\n",
        "top_10_postal = postal_sales.sort_values(by='Sales', ascending=False).head(10)\n",
        "\n",
        "# Print the top 10 postal codes with their total sales\n",
        "print(\"Top 10 Destinations by Postal Code (Based on Sales):\")\n",
        "print(top_10_postal)"
      ],
      "metadata": {
        "colab": {
          "base_uri": "https://localhost:8080/"
        },
        "id": "NlhXXRdGLAK5",
        "outputId": "b16a3ce5-c117-4a82-bc23-c091239bbf0d"
      },
      "execution_count": 10,
      "outputs": [
        {
          "output_type": "stream",
          "name": "stdout",
          "text": [
            "Top 10 Destinations by Postal Code (Based on Sales):\n",
            "     Postal Code      Sales\n",
            "54         10024  78534.044\n",
            "55         10035  75151.829\n",
            "52         10009  53225.076\n",
            "575        94122  49114.375\n",
            "53         10011  45551.598\n",
            "616        98105  41838.008\n",
            "617        98115  41160.908\n",
            "80         19134  39390.293\n",
            "148        32216  39133.328\n",
            "516        90049  37889.924\n"
          ]
        }
      ]
    },
    {
      "cell_type": "code",
      "source": [
        "# Group by 'Customer ID' and count the number of purchases for each customer\n",
        "customer_frequency = df.groupby('Customer ID').size().reset_index(name='Purchase Count')\n",
        "\n",
        "# Sort the customers by purchase count in descending order and select the top 10\n",
        "top_10_customers = customer_frequency.sort_values(by='Purchase Count', ascending=False).head(10)\n",
        "\n",
        "# Print the top 10 frequent buyers with their purchase counts\n",
        "print(\"Top 10 Frequent Buyers by Customer ID:\")\n",
        "print(top_10_customers)"
      ],
      "metadata": {
        "colab": {
          "base_uri": "https://localhost:8080/"
        },
        "id": "3vq__ztyLimh",
        "outputId": "5258dc74-e6a2-41ea-be3f-06515702e690"
      },
      "execution_count": 11,
      "outputs": [
        {
          "output_type": "stream",
          "name": "stdout",
          "text": [
            "Top 10 Frequent Buyers by Customer ID:\n",
            "    Customer ID  Purchase Count\n",
            "787    WB-21850              35\n",
            "606    PP-18955              34\n",
            "482    MA-17560              34\n",
            "387    JL-15835              33\n",
            "147    CK-12205              32\n",
            "720    SV-20365              32\n",
            "349    JD-15895              32\n",
            "44     AP-10915              31\n",
            "791    ZC-21910              31\n",
            "275    EP-13915              31\n"
          ]
        }
      ]
    },
    {
      "cell_type": "markdown",
      "source": [
        "Exploratory Data Analysis was performed on the chosen Dataset."
      ],
      "metadata": {
        "id": "2VK6iV6WMenB"
      }
    }
  ]
}